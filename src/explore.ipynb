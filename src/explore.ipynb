{
    "cells": [
        {
            "cell_type": "markdown",
            "metadata": {},
            "source": [
                "# Explore here"
            ]
        },
        {
            "cell_type": "code",
            "execution_count": null,
            "metadata": {},
            "outputs": [],
            "source": [
                "# Your code here\n",
                "import pandas as pd\n",
                "import matplotlib.pyplot as plt\n",
                "import seaborn as sns\n",
                "\n",
                "\n",
                "df=pd.read_csv('https://raw.githubusercontent.com/4GeeksAcademy/linear-regression-project-tutorial/main/medical_insurance_cost.csv')\n",
                "df.info()\n",
                "df.head()"
            ]
        },
        {
            "cell_type": "code",
            "execution_count": null,
            "metadata": {},
            "outputs": [],
            "source": [
                "df.to_csv('../data/raw/df.csv')"
            ]
        },
        {
            "cell_type": "code",
            "execution_count": null,
            "metadata": {},
            "outputs": [],
            "source": [
                "fig, axis = plt.subplots(4, 2, figsize = (15, 12), gridspec_kw={'height_ratios': [6, 1, 6, 1]})\n",
                "\n",
                "sns.histplot(ax = axis[0, 0], data = df, x = \"age\")\n",
                "sns.boxplot(ax = axis[1, 0], data = df, x = \"age\")\n",
                "\n",
                "sns.histplot(ax = axis[0, 1], data = df, x = \"bmi\")\n",
                "sns.boxplot(ax = axis[1, 1], data = df, x = \"bmi\")\n",
                "\n",
                "sns.histplot(ax = axis[2, 0], data = df, x = \"children\")\n",
                "sns.boxplot(ax = axis[3, 0], data = df, x = \"children\")\n",
                "\n",
                "sns.histplot(ax = axis[2, 1], data = df, x = \"charges\")\n",
                "sns.boxplot(ax = axis[3, 1], data = df, x = \"charges\")\n",
                "\n",
                "plt.tight_layout()\n",
                "\n",
                "plt.show()"
            ]
        },
        {
            "cell_type": "code",
            "execution_count": null,
            "metadata": {},
            "outputs": [],
            "source": [
                "#valores categoricos\n",
                "fig, axis = plt.subplots(2, 2, figsize = (15, 7))\n",
                "\n",
                "sns.histplot(ax = axis[0, 0], data = df, x = \"sex\")\n",
                "sns.histplot(ax = axis[0, 1], data = df, x = \"smoker\")\n",
                "sns.histplot(ax = axis[1, 0], data = df, x = \"region\")\n",
                "\n",
                "\n",
                "\n",
                "plt.tight_layout()\n",
                "\n",
                "plt.show()\n"
            ]
        },
        {
            "cell_type": "code",
            "execution_count": null,
            "metadata": {},
            "outputs": [],
            "source": [
                "fig, axis = plt.subplots(4, 2, figsize = (10, 16))\n",
                "\n",
                "sns.regplot(ax = axis[0, 0], data = df, x = \"age\", y = \"charges\")\n",
                "sns.heatmap(df[[\"charges\", \"age\"]].corr(), annot = True, fmt = \".2f\", ax = axis[1, 0], cbar = False)\n",
                "\n",
                "sns.regplot(ax = axis[0, 1], data = df, x = \"bmi\", y = \"charges\").set(ylabel = None)\n",
                "sns.heatmap(df[[\"charges\", \"bmi\"]].corr(), annot = True, fmt = \".2f\", ax = axis[1, 1])\n",
                "\n",
                "sns.regplot(ax = axis[2, 0], data = df, x = \"children\", y = \"charges\").set(ylabel = None)\n",
                "sns.heatmap(df[[\"charges\", \"children\"]].corr(), annot = True, fmt = \".2f\", ax = axis[3, 0])\n",
                "\n",
                "plt.tight_layout()\n",
                "plt.show()\n"
            ]
        },
        {
            "cell_type": "code",
            "execution_count": null,
            "metadata": {},
            "outputs": [],
            "source": [
                "#Factorizo datos categoricos\n",
                "\n",
                "df['sex'] = df['sex'].map({'female': 0, 'male': 1})\n",
                "df['smoker'] = df['smoker'].map({'no': 0, 'yes': 1})\n",
                "df['region'] = df['region'].map({'southwest': 0, 'southeast': 1, 'northwest': 2, 'northeast': 3})"
            ]
        },
        {
            "cell_type": "code",
            "execution_count": null,
            "metadata": {},
            "outputs": [],
            "source": [
                "fig, axis = plt.subplots(4, 2, figsize = (10, 16))\n",
                "\n",
                "sns.regplot(ax = axis[0, 0], data = df, x = \"sex\", y = \"charges\")\n",
                "sns.heatmap(df[[\"charges\", \"sex\"]].corr(), annot = True, fmt = \".2f\", ax = axis[1, 0], cbar = False)\n",
                "\n",
                "sns.regplot(ax = axis[0, 1], data = df, x = \"smoker\", y = \"charges\").set(ylabel = None)\n",
                "sns.heatmap(df[[\"charges\", \"smoker\"]].corr(), annot = True, fmt = \".2f\", ax = axis[1, 1])\n",
                "\n",
                "sns.regplot(ax = axis[2, 0], data = df, x = \"region\", y = \"charges\").set(ylabel = None)\n",
                "sns.heatmap(df[[\"charges\", \"region\"]].corr(), annot = True, fmt = \".2f\", ax = axis[3, 0])\n",
                "\n",
                "plt.tight_layout()\n",
                "plt.show()"
            ]
        },
        {
            "cell_type": "code",
            "execution_count": null,
            "metadata": {},
            "outputs": [],
            "source": [
                "fig, axes = plt.subplots(figsize=(10, 7))\n",
                "\n",
                "sns.heatmap(df[[\"charges\", \"age\", \"bmi\", \"children\", \"sex\", \"smoker\", \"region\"]].corr(), annot = True, fmt = \".2f\")\n",
                "\n",
                "plt.tight_layout()\n",
                "\n",
                "plt.show()"
            ]
        },
        {
            "cell_type": "markdown",
            "metadata": {},
            "source": [
                "La correlacion mas fuerte es la de smoker, seguido por age y bmi"
            ]
        },
        {
            "cell_type": "code",
            "execution_count": null,
            "metadata": {},
            "outputs": [],
            "source": [
                "df.drop([\"children\",\"sex\",\"region\"], axis = 1, inplace = True)"
            ]
        },
        {
            "cell_type": "code",
            "execution_count": null,
            "metadata": {},
            "outputs": [],
            "source": [
                "df.describe()"
            ]
        },
        {
            "cell_type": "code",
            "execution_count": null,
            "metadata": {},
            "outputs": [],
            "source": [
                "from sklearn.preprocessing import MinMaxScaler\n",
                "\n",
                "scaler = MinMaxScaler()\n",
                "scal_features = scaler.fit_transform(df)\n",
                "df_scal = pd.DataFrame(scal_features, index = df.index, columns = df.columns)\n",
                "df_scal.head()"
            ]
        },
        {
            "cell_type": "code",
            "execution_count": null,
            "metadata": {},
            "outputs": [],
            "source": [
                "\n",
                "from sklearn.feature_selection import SelectKBest, f_regression\n",
                "from sklearn.model_selection import train_test_split\n",
                "\n",
                "X = df_scal.drop(\"charges\", axis = 1)\n",
                "y = df_scal[\"charges\"]\n",
                "\n",
                "X_train, X_test, y_train, y_test = train_test_split(X, y, test_size = 0.2, random_state = 42)\n",
                "\n",
                "selection_model = SelectKBest(f_regression, k = 4)\n",
                "selection_model.fit(X_train, y_train)\n",
                "\n",
                "selected_columns = X_train.columns[selection_model.get_support()]\n",
                "X_train_sel = pd.DataFrame(selection_model.transform(X_train), columns = selected_columns)\n",
                "X_test_sel = pd.DataFrame(selection_model.transform(X_test), columns = selected_columns)\n",
                "\n",
                "X_train_sel.head()"
            ]
        },
        {
            "cell_type": "code",
            "execution_count": null,
            "metadata": {},
            "outputs": [],
            "source": [
                "X_test_sel.head()"
            ]
        },
        {
            "cell_type": "code",
            "execution_count": null,
            "metadata": {},
            "outputs": [],
            "source": [
                "X_train_sel[\"charges\"] = y_train.values\n",
                "X_test_sel[\"charges\"] = y_test.values\n",
                "X_train_sel.to_csv(\"../data/processed/clean_train.csv\", index = False)\n",
                "X_test_sel.to_csv(\"../data/processed/clean_test.csv\", index = False)"
            ]
        },
        {
            "cell_type": "code",
            "execution_count": null,
            "metadata": {},
            "outputs": [],
            "source": [
                "train_data = pd.read_csv(\"../data/processed/clean_train.csv\")\n",
                "test_data = pd.read_csv(\"../data/processed/clean_test.csv\")\n",
                "\n",
                "train_data.head()"
            ]
        },
        {
            "cell_type": "code",
            "execution_count": null,
            "metadata": {},
            "outputs": [],
            "source": [
                "\n",
                "fig, axis = plt.subplots(2, 2, figsize = (10, 7))\n",
                "total_data = pd.concat([train_data, test_data])\n",
                "\n",
                "sns.regplot(ax = axis[0,0], data = total_data, x = \"age\", y = \"charges\")\n",
                "sns.heatmap(total_data[[\"charges\", \"age\"]].corr(), annot = True, fmt = \".2f\", ax = axis[1,0], cbar = False)\n",
                "\n",
                "sns.regplot(ax = axis[0,1], data = total_data, x = \"bmi\", y = \"charges\")\n",
                "sns.heatmap(total_data[[\"charges\", \"bmi\"]].corr(), annot = True, fmt = \".2f\", ax = axis[1,1], cbar = False)\n",
                "\n",
                "plt.tight_layout()\n",
                "\n",
                "plt.show()"
            ]
        },
        {
            "cell_type": "code",
            "execution_count": null,
            "metadata": {},
            "outputs": [],
            "source": [
                "X_train = train_data.drop([\"charges\"], axis = 1)\n",
                "y_train = train_data[\"charges\"]\n",
                "X_test = test_data.drop([\"charges\"], axis = 1)\n",
                "y_test = test_data[\"charges\"]"
            ]
        },
        {
            "cell_type": "code",
            "execution_count": null,
            "metadata": {},
            "outputs": [],
            "source": [
                "from sklearn.linear_model import LinearRegression\n",
                "\n",
                "model = LinearRegression()\n",
                "model.fit(X_train, y_train)"
            ]
        },
        {
            "cell_type": "code",
            "execution_count": null,
            "metadata": {},
            "outputs": [],
            "source": [
                "print(f\"Intercep (a): {model.intercept_}\")\n",
                "print(f\"Coefficients (b1, b2): {model.coef_}\")"
            ]
        },
        {
            "cell_type": "code",
            "execution_count": null,
            "metadata": {},
            "outputs": [],
            "source": [
                "y_pred = model.predict(X_test)\n",
                "y_pred"
            ]
        },
        {
            "cell_type": "code",
            "execution_count": null,
            "metadata": {},
            "outputs": [],
            "source": [
                "from sklearn.metrics import mean_squared_error, r2_score\n",
                "\n",
                "print(f\"MSE: {mean_squared_error(y_test, y_pred)}\")\n",
                "print(f\"R2 Score: {r2_score(y_test, y_pred)}\")"
            ]
        }
    ],
    "metadata": {
        "kernelspec": {
            "display_name": "Python 3.8.13 64-bit ('3.8.13')",
            "language": "python",
            "name": "python3"
        },
        "language_info": {
            "codemirror_mode": {
                "name": "ipython",
                "version": 3
            },
            "file_extension": ".py",
            "mimetype": "text/x-python",
            "name": "python",
            "nbconvert_exporter": "python",
            "pygments_lexer": "ipython3",
            "version": "3.8.13"
        },
        "orig_nbformat": 4,
        "vscode": {
            "interpreter": {
                "hash": "110cc1dee26208153f2972f08a2ad52b6a56238dc66d48e87fb757ef2996db56"
            }
        }
    },
    "nbformat": 4,
    "nbformat_minor": 2
}
